{
 "cells": [
  {
   "cell_type": "markdown",
   "id": "482f2b58-1482-4779-9e1b-84e3eed20b45",
   "metadata": {},
   "source": [
    "# Data Science Tools and Ecosystem"
   ]
  },
  {
   "cell_type": "markdown",
   "id": "1a0cf18c-3652-44d8-a480-65336baddaef",
   "metadata": {},
   "source": [
    "#### In this notebook, Data Science Tools and Ecosystem are summarized."
   ]
  },
  {
   "cell_type": "markdown",
   "id": "3099ea1e-c0ea-4550-ae13-0b3e56ad328a",
   "metadata": {},
   "source": [
    "**Objectives:**\n",
    "- List of popular langauges for Data Scientists\n",
    "- List of commonly used libraries by Data Scientists\n",
    "- List of open-source tools used by Data Scientists\n",
    "- Example of **arithmetic expression** in Python"
   ]
  },
  {
   "cell_type": "markdown",
   "id": "84de9e4f-e4f2-4324-9b9e-18cd02309705",
   "metadata": {},
   "source": [
    "Some of the popular languages that Data Scientists use are:\n",
    "1. Python\n",
    "2. R\n",
    "3. SQL"
   ]
  },
  {
   "cell_type": "markdown",
   "id": "c8bbe619-c917-48a8-9bb1-cf2d11e87303",
   "metadata": {},
   "source": [
    "Some of the commonly used libraries used by Data Scientists include:\n",
    "1. Pandas\n",
    "2. Numpy\n",
    "3. Scikit-learn"
   ]
  },
  {
   "cell_type": "markdown",
   "id": "672adefe-b6c6-4da7-8647-879b1f5eff6a",
   "metadata": {},
   "source": [
    "|Data Science Tools|\n",
    "|------------------|\n",
    "|Jupyter Notebook|\n",
    "|RStudio|\n",
    "|VS Code|"
   ]
  },
  {
   "cell_type": "markdown",
   "id": "be756d18-f7d8-46ec-843d-4a93329c2570",
   "metadata": {},
   "source": [
    "### Below are a few examples of evaluating arithmetic expressions in Python"
   ]
  },
  {
   "cell_type": "code",
   "execution_count": 1,
   "id": "fcd38a55-162f-4a33-bc4c-7891ddeb5030",
   "metadata": {},
   "outputs": [
    {
     "data": {
      "text/plain": [
       "17"
      ]
     },
     "execution_count": 1,
     "metadata": {},
     "output_type": "execute_result"
    }
   ],
   "source": [
    "# This a simple arithmetic expression to multiply then add integers\n",
    "(3*4) + 5"
   ]
  },
  {
   "cell_type": "code",
   "execution_count": 2,
   "id": "22bca316-f4f3-4506-b79c-ec939e453ac1",
   "metadata": {},
   "outputs": [
    {
     "data": {
      "text/plain": [
       "3.3333333333333335"
      ]
     },
     "execution_count": 2,
     "metadata": {},
     "output_type": "execute_result"
    }
   ],
   "source": [
    "# This will convert 200 minutes to hours by dividing by 60\n",
    "200/60"
   ]
  },
  {
   "cell_type": "markdown",
   "id": "d859a0ca-c298-4aff-bdba-662a15ab64e2",
   "metadata": {},
   "source": [
    "## Author\n",
    "Ghoza Ghazali"
   ]
  },
  {
   "cell_type": "code",
   "execution_count": null,
   "id": "80982585-d4aa-4da3-bedd-ea09713c123b",
   "metadata": {},
   "outputs": [],
   "source": []
  }
 ],
 "metadata": {
  "kernelspec": {
   "display_name": "Python 3 (ipykernel)",
   "language": "python",
   "name": "python3"
  },
  "language_info": {
   "codemirror_mode": {
    "name": "ipython",
    "version": 3
   },
   "file_extension": ".py",
   "mimetype": "text/x-python",
   "name": "python",
   "nbconvert_exporter": "python",
   "pygments_lexer": "ipython3",
   "version": "3.13.5"
  }
 },
 "nbformat": 4,
 "nbformat_minor": 5
}
